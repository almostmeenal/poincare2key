{
 "cells": [
  {
   "cell_type": "code",
   "execution_count": 35,
   "metadata": {},
   "outputs": [],
   "source": [
    "# import dill\n",
    "# dill.dump_session('notebook_env.db')\n",
    "# import dill\n",
    "# dill.load_session('notebook_env.db')"
   ]
  },
  {
   "cell_type": "code",
   "execution_count": 101,
   "metadata": {},
   "outputs": [],
   "source": [
    "import pke\n",
    "from tqdm.notebook import tqdm\n",
    "import ipywidgets as widgets\n",
    "import os\n",
    "import pandas as pd\n",
    "import json\n",
    "import spacy\n",
    "import string\n",
    "from nltk.corpus import stopwords\n",
    "import re\n",
    "import warnings\n",
    "warnings.filterwarnings(\"ignore\")\n",
    "import string"
   ]
  },
  {
   "cell_type": "code",
   "execution_count": 143,
   "metadata": {},
   "outputs": [],
   "source": [
    "with open('mj.json') as json_file:\n",
    "    mj = json.load(json_file)\n",
    "    \n",
    "with open('ah.json') as json_file:\n",
    "    ah = json.load(json_file)\n",
    "\n",
    "with open('se.json') as json_file:\n",
    "    se = json.load(json_file)"
   ]
  },
  {
   "cell_type": "code",
   "execution_count": 144,
   "metadata": {},
   "outputs": [],
   "source": [
    "def preprocessor(text):\n",
    "    if type(text)!=str:\n",
    "        text = str(text)\n",
    "    nlp = spacy.load(\"en_core_web_lg\")\n",
    "    doc = nlp(text)\n",
    "    lemma_list = []\n",
    "    for token in doc:\n",
    "        if token.is_alpha is True:\n",
    "            lemma_list.append(token.lemma_)\n",
    "    return_list=[]\n",
    "    for i in range(len(lemma_list)):\n",
    "        temp_text = re.sub('<[^>]*>', '', lemma_list[i])\n",
    "        temp_text = re.sub('[\\W]+', '', temp_text.lower())\n",
    "        return_list.append(temp_text)\n",
    "    return(return_list)"
   ]
  },
  {
   "cell_type": "code",
   "execution_count": 145,
   "metadata": {},
   "outputs": [],
   "source": [
    "def evaluate_keywords(proposed,groundtruth):\n",
    "    \n",
    "    proposed_set = set(proposed)\n",
    "    true_set = set(groundtruth)\n",
    "    \n",
    "    true_positives = len(proposed_set.intersection(true_set))\n",
    "    \n",
    "    if len(proposed_set)==0:\n",
    "        precision = 0\n",
    "    \n",
    "    else:\n",
    "        precision = true_positives/float(len(proposed)) \n",
    "    \n",
    "    if len(true_set)==0:\n",
    "        recall = 0\n",
    "    \n",
    "    else:\n",
    "        recall = true_positives/float(len(true_set))\n",
    "        \n",
    "    if precision + recall > 0:\n",
    "        f1 = 2*precision*recall/float(precision + recall)\n",
    "    \n",
    "    else:\n",
    "        f1 = 0\n",
    "    \n",
    "    return (precision, recall, f1)"
   ]
  },
  {
   "cell_type": "code",
   "execution_count": 147,
   "metadata": {
    "scrolled": true
   },
   "outputs": [],
   "source": [
    "def evaluate(dataset, model):\n",
    "#dataset = mj,ah,se\n",
    "#model = multipartiterank, topicrank, textrank, positionrank\n",
    "    final_result_5 = []\n",
    "    final_result_10 = []\n",
    "    result = []\n",
    "    p_5 = 0\n",
    "    p_10 = 0\n",
    "    r_5 = 0\n",
    "    r_10 = 0\n",
    "    f_10 = 0\n",
    "    f_5=0\n",
    "    for i in tqdm(dataset):\n",
    "        a = i['keywords'][0]\n",
    "        b = i[str(model)]\n",
    "        x = evaluate_keywords(preprocessor(b[0]),preprocessor(a))\n",
    "        y = evaluate_keywords(preprocessor(b[1]),preprocessor(a))\n",
    "        p_5 = p+ x[0]\n",
    "        r_5 = r+ x[1]\n",
    "        f_5 = f+ x[2]\n",
    "        p_10 = p+ y[0]\n",
    "        r_10 = r+ y[1]\n",
    "        f_10 = f+ y[2]\n",
    "    final_result_5.append(p_5)\n",
    "    final_result_5.append(r_5)\n",
    "    final_result_5.append(f_5)\n",
    "    final_result_10.append(p_10)\n",
    "    final_result_10.append(r_10)\n",
    "    final_result_10.append(f_10)\n",
    "    result.append(final_result_5)\n",
    "    result.append(final_result_10)\n",
    "    return result"
   ]
  },
  {
   "cell_type": "code",
   "execution_count": null,
   "metadata": {},
   "outputs": [],
   "source": []
  }
 ],
 "metadata": {
  "kernelspec": {
   "display_name": "Python 3",
   "language": "python",
   "name": "python3"
  },
  "language_info": {
   "codemirror_mode": {
    "name": "ipython",
    "version": 3
   },
   "file_extension": ".py",
   "mimetype": "text/x-python",
   "name": "python",
   "nbconvert_exporter": "python",
   "pygments_lexer": "ipython3",
   "version": "3.7.9"
  }
 },
 "nbformat": 4,
 "nbformat_minor": 4
}
