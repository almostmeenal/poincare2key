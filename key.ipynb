{
 "cells": [
  {
   "cell_type": "code",
   "execution_count": 42,
   "metadata": {},
   "outputs": [],
   "source": [
    "%load_ext autoreload\n",
    "%autoreload 2"
   ]
  },
  {
   "cell_type": "code",
   "execution_count": 44,
   "metadata": {},
   "outputs": [],
   "source": [
    "from graph_construction import LoadData"
   ]
  },
  {
   "cell_type": "code",
   "execution_count": 53,
   "metadata": {},
   "outputs": [],
   "source": [
    "from edges import EdgeWeights\n",
    "from Hyperbolic import HyperbolicEmbedding"
   ]
  },
  {
   "cell_type": "code",
   "execution_count": 46,
   "metadata": {},
   "outputs": [],
   "source": [
    "from evaluate import Evaluate"
   ]
  },
  {
   "cell_type": "code",
   "execution_count": 47,
   "metadata": {
    "collapsed": true
   },
   "outputs": [
    {
     "name": "stderr",
     "output_type": "stream",
     "text": [
      "2021-02-04 12:51:01 WARNING: Can not find mwt: default from official model list. Ignoring it.\n",
      "2021-02-04 12:51:01 INFO: Loading these models for language: en (English):\n",
      "=======================\n",
      "| Processor | Package |\n",
      "-----------------------\n",
      "| tokenize  | ewt     |\n",
      "| pos       | ewt     |\n",
      "| lemma     | ewt     |\n",
      "| depparse  | ewt     |\n",
      "=======================\n",
      "\n",
      "2021-02-04 12:51:01 INFO: Use device: cpu\n",
      "2021-02-04 12:51:01 INFO: Loading: tokenize\n",
      "2021-02-04 12:51:01 INFO: Loading: pos\n",
      "2021-02-04 12:51:02 INFO: Loading: lemma\n",
      "2021-02-04 12:51:02 INFO: Loading: depparse\n",
      "2021-02-04 12:51:03 INFO: Done loading processors!\n"
     ]
    }
   ],
   "source": [
    "config = {\n",
    "    'dataset': 'semeval2017',\n",
    "    'data_dir': 'data',\n",
    "    }\n",
    "\n",
    "marujo_data = LoadData(config)"
   ]
  },
  {
   "cell_type": "markdown",
   "metadata": {},
   "source": [
    "***"
   ]
  },
  {
   "cell_type": "code",
   "execution_count": 54,
   "metadata": {},
   "outputs": [],
   "source": [
    "import string\n",
    "import numpy as np\n",
    "import networkx as nx"
   ]
  },
  {
   "cell_type": "code",
   "execution_count": 55,
   "metadata": {},
   "outputs": [],
   "source": [
    "from tqdm.notebook import tqdm, trange"
   ]
  },
  {
   "cell_type": "code",
   "execution_count": 56,
   "metadata": {},
   "outputs": [],
   "source": [
    "stopwords = []\n",
    "with open(r\"stopwords.txt\",'r', encoding=\"utf8\") as File:\n",
    "    for line in File.readlines():\n",
    "        stopwords.append(str(line)[:-1])"
   ]
  },
  {
   "cell_type": "code",
   "execution_count": 66,
   "metadata": {},
   "outputs": [],
   "source": [
    "def marujo():\n",
    "    metrics = {'precision': [],\n",
    "           'recall': [],\n",
    "           'f1': []}\n",
    "    \n",
    "    for item in trange(len(marujo_data.data[:50])):\n",
    "        data = marujo_data.data[item]['text']\n",
    "        graph = marujo_data.construct_graph(data)\n",
    "        distance_matrix = nx.to_numpy_matrix(graph)\n",
    "        he = HyperbolicEmbedding(distance_matrix, graph)\n",
    "        new_graph = he.get_graph()\n",
    "\n",
    "        index = sorted(new_graph.degree, key=lambda x: x[1], reverse=True)\n",
    "        candidate_key = []\n",
    "        for i in index:\n",
    "            if isinstance(i[0], str):\n",
    "                candidate_key.append((i[0].split('.',1)[0]).lower())\n",
    "\n",
    "        for i in candidate_key:\n",
    "            if i in set(stopwords) or i in string.punctuation:\n",
    "                candidate_key.remove(i)\n",
    "\n",
    "        unique_key = []\n",
    "        for key in candidate_key:\n",
    "            if key not in unique_key:\n",
    "                unique_key.append(key)\n",
    "\n",
    "\n",
    "        keywords = marujo_data.data[item]['keywords'].split('\\n')\n",
    "\n",
    "        ev = Evaluate('data', 'marujo')\n",
    "        precision, recall, f1 = ev.evaluate_from_keyword(unique_key[:10], keywords)\n",
    "\n",
    "        metrics['precision'].append(precision)\n",
    "        metrics['recall'].append(recall)\n",
    "        metrics['f1'].append(f1)\n",
    "\n",
    "    return np.asarray(metrics['precision']).mean(), np.asarray(metrics['recall']).mean(), np.asarray(metrics['f1']).mean()"
   ]
  },
  {
   "cell_type": "code",
   "execution_count": 65,
   "metadata": {},
   "outputs": [
    {
     "data": {
      "application/vnd.jupyter.widget-view+json": {
       "model_id": "37f2331c652244e8b8600808cd6c0293",
       "version_major": 2,
       "version_minor": 0
      },
      "text/plain": [
       "  0%|          | 0/50 [00:00<?, ?it/s]"
      ]
     },
     "metadata": {},
     "output_type": "display_data"
    },
    {
     "data": {
      "text/plain": [
       "(0.47, 0.19176255687294405, 0.2491057914374626)"
      ]
     },
     "execution_count": 65,
     "metadata": {},
     "output_type": "execute_result"
    }
   ],
   "source": [
    "marujo()"
   ]
  },
  {
   "cell_type": "code",
   "execution_count": 21,
   "metadata": {},
   "outputs": [],
   "source": [
    "ev = Evaluate('data', 'marujo')"
   ]
  },
  {
   "cell_type": "code",
   "execution_count": null,
   "metadata": {},
   "outputs": [],
   "source": [
    "ev.evaluate_from_keyword()"
   ]
  },
  {
   "cell_type": "code",
   "execution_count": null,
   "metadata": {},
   "outputs": [],
   "source": [
    "#Weighted Distance Matrix\n",
    "word_vec_map = marujo_data.vectorization(data, unique_key)\n",
    "edges = EdgeWeights(word_vec_map)\n",
    "distance_matrix = edges.generate_distance()"
   ]
  },
  {
   "cell_type": "code",
   "execution_count": null,
   "metadata": {},
   "outputs": [],
   "source": []
  }
 ],
 "metadata": {
  "kernelspec": {
   "display_name": "Python 3",
   "language": "python",
   "name": "python3"
  },
  "language_info": {
   "codemirror_mode": {
    "name": "ipython",
    "version": 3
   },
   "file_extension": ".py",
   "mimetype": "text/x-python",
   "name": "python",
   "nbconvert_exporter": "python",
   "pygments_lexer": "ipython3",
   "version": "3.7.9"
  }
 },
 "nbformat": 4,
 "nbformat_minor": 4
}
